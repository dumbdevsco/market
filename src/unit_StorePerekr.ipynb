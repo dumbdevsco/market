{
 "cells": [
  {
   "cell_type": "code",
   "execution_count": 221,
   "metadata": {},
   "outputs": [
    {
     "name": "stdout",
     "output_type": "stream",
     "text": [
      " https://www.perekrestok.ru/cat/149/p/ogurcy-solenye-market-perekrestok-500g-4187465\n",
      " https://www.perekrestok.ru/cat/149/p/ogurcy-solenye-market-perekrestok-600g-4018706\n",
      " https://www.perekrestok.ru/cat/149/p/ogurcy-otbornye-solenye-market-collection-600g-4188778\n"
     ]
    }
   ],
   "source": [
    "import StorePerekr\n",
    "\n",
    "s = StorePerekr.Scrapper()\n",
    "s.max_cards = 3\n",
    "s.run_shortcards('solena')\n",
    "s.run_fullcards('solena')"
   ]
  },
  {
   "cell_type": "code",
   "execution_count": 222,
   "metadata": {},
   "outputs": [
    {
     "name": "stderr",
     "output_type": "stream",
     "text": [
      "Exception ignored in: <finalize object at 0x71944b1596c0; dead>\n",
      "Traceback (most recent call last):\n",
      "  File \"/home/user/mambaforge/envs/scrap/lib/python3.12/weakref.py\", line 585, in __call__\n",
      "    def __call__(self, _=None):\n",
      "\n",
      "KeyboardInterrupt: \n"
     ]
    },
    {
     "name": "stdout",
     "output_type": "stream",
     "text": [
      "/cat/mc/1255/leto-solnce-zara\n",
      "/cat/mc/282/ot-perekrestka\n",
      "/cat/mc/25/gotovaa-eda\n",
      "/cat/mc/113/moloko-syr-ajca\n",
      "/cat/mc/148/ovosi-frukty-griby\n",
      "/cat/mc/100/makarony-krupy-maslo-specii\n",
      "/cat/mc/708/cipsy-sneki-popkorn\n",
      "/cat/mc/187/sokolad-konfety-sladosti\n",
      "/cat/mc/205/soki-vody-napitki\n",
      "/cat/mc/242/hleb-i-vypecka\n",
      "/cat/mc/132/maso-i-ptica\n",
      "/cat/mc/782/kolbasnye-izdelia\n",
      "/cat/mc/174/ryba\n",
      "/cat/mc/54/zamorozennye-produkty\n",
      "/cat/mc/793/moreprodukty\n",
      "/cat/mc/229/tovary-dla-mam-i-detej\n",
      "/cat/mc/217/sousy-ketcupy-majonezy\n",
      "/cat/mc/79/kofe-caj-kakao-sahar\n",
      "/cat/mc/224/suhie-zavtraki-musli\n",
      "/cat/mc/168/produkty-bystrogo-prigotovlenia\n",
      "/cat/mc/74/konservacia\n",
      "/cat/mc/64/zdorove\n",
      "/cat/mc/157/orehi-semecki-suhofrukty\n",
      "/cat/mc/108/med-varene-dzemy-siropy\n",
      "/cat/mc/66/zootovary\n",
      "/cat/mc/84/krasota-gigiena-apteka\n",
      "/cat/mc/236/uborka\n",
      "/cat/mc/162/posuda\n",
      "/cat/mc/35/dla-doma-i-daci\n",
      "/cat/mc/1/alkogolnye-napitki\n",
      "/cat/mc/248/sistemy-nagrevania-tabak\n"
     ]
    }
   ],
   "source": [
    "import requests\n",
    "from bs4 import BeautifulSoup\n",
    "\n",
    "url_base = 'https://www.perekrestok.ru'\n",
    "req = requests.get(url_base + '/cat')\n",
    "bs = BeautifulSoup(req.text, 'html.parser')\n",
    "cats = bs.find_all(class_='category-filter-item__header')\n",
    "\n",
    "for cat in cats:\n",
    "    print(cat.find('a').get('href'))"
   ]
  },
  {
   "cell_type": "code",
   "execution_count": null,
   "metadata": {},
   "outputs": [
    {
     "name": "stdout",
     "output_type": "stream",
     "text": [
      "/cat/mc/113/moloko-syr-ajca\n",
      "Молоко, сыр, яйца\n",
      "/cat/mc/148/ovosi-frukty-griby\n",
      "Овощи, фрукты, грибы\n",
      "/cat/mc/100/makarony-krupy-maslo-specii\n",
      "Макароны, крупы, масло, специи\n",
      "/cat/mc/708/cipsy-sneki-popkorn\n",
      "Чипсы, снеки, попкорн\n",
      "/cat/mc/187/sokolad-konfety-sladosti\n",
      "Шоколад, конфеты, сладости\n",
      "/cat/mc/205/soki-vody-napitki\n",
      "Соки, воды, напитки\n",
      "/cat/mc/242/hleb-i-vypecka\n",
      "Хлеб и выпечка\n",
      "/cat/mc/132/maso-i-ptica\n",
      "Мясо и птица\n",
      "/cat/mc/782/kolbasnye-izdelia\n",
      "Колбасные изделия\n",
      "/cat/mc/174/ryba\n",
      "Рыба\n",
      "/cat/mc/54/zamorozennye-produkty\n",
      "Замороженные продукты\n",
      "/cat/mc/793/moreprodukty\n",
      "Морепродукты\n",
      "/cat/mc/217/sousy-ketcupy-majonezy\n",
      "Соусы, кетчупы, майонезы\n",
      "/cat/mc/79/kofe-caj-kakao-sahar\n",
      "Кофе, чай, какао, сахар\n",
      "/cat/mc/224/suhie-zavtraki-musli\n",
      "Сухие завтраки, мюсли\n",
      "/cat/mc/168/produkty-bystrogo-prigotovlenia\n",
      "Продукты быстрого приготовления\n",
      "/cat/mc/74/konservacia\n",
      "Консервация\n",
      "/cat/mc/157/orehi-semecki-suhofrukty\n",
      "Орехи, семечки, сухофрукты\n",
      "/cat/mc/108/med-varene-dzemy-siropy\n",
      "Мёд, варенье, джемы, сиропы\n",
      "/cat/mc/1/alkogolnye-napitki\n",
      "Алкогольные напитки\n"
     ]
    }
   ],
   "source": [
    "import requests\n",
    "from bs4 import BeautifulSoup\n",
    "import yaml\n",
    "\n",
    "url_base = 'https://www.perekrestok.ru'\n",
    "\n",
    "ROOT_URLS = [\n",
    "    '/cat/mc/113/moloko-syr-ajca',\n",
    "    '/cat/mc/148/ovosi-frukty-griby',\n",
    "    '/cat/mc/100/makarony-krupy-maslo-specii',\n",
    "    '/cat/mc/708/cipsy-sneki-popkorn',\n",
    "    '/cat/mc/187/sokolad-konfety-sladosti',\n",
    "    '/cat/mc/205/soki-vody-napitki',\n",
    "    '/cat/mc/242/hleb-i-vypecka',\n",
    "    '/cat/mc/132/maso-i-ptica',\n",
    "    '/cat/mc/782/kolbasnye-izdelia',\n",
    "    '/cat/mc/174/ryba',\n",
    "    '/cat/mc/54/zamorozennye-produkty',\n",
    "    '/cat/mc/793/moreprodukty',\n",
    "    '/cat/mc/217/sousy-ketcupy-majonezy',\n",
    "    '/cat/mc/79/kofe-caj-kakao-sahar',\n",
    "    '/cat/mc/224/suhie-zavtraki-musli',\n",
    "    '/cat/mc/168/produkty-bystrogo-prigotovlenia',\n",
    "    '/cat/mc/74/konservacia',\n",
    "    '/cat/mc/157/orehi-semecki-suhofrukty',\n",
    "    '/cat/mc/108/med-varene-dzemy-siropy',\n",
    "    '/cat/mc/1/alkogolnye-napitki',\n",
    "]\n",
    "\n",
    "cat_urls = {}\n",
    "cat_names = {}\n",
    "cat_tree = {}\n",
    "for url in ROOT_URLS:\n",
    "    print(url)\n",
    "    req = requests.get(url_base + url)\n",
    "    bs = BeautifulSoup(req.text, 'html.parser')\n",
    "    cats = bs.find(class_='category-filter-item__content').find_all('a')\n",
    "    h = bs.find(class_='category-filter-item__header').find('span').text\n",
    "    print(h)\n",
    "    cat_tree[h] = {}\n",
    "    for cat in cats:\n",
    "        u = cat.get('href')\n",
    "        k = u.split('/')[-1]\n",
    "        t = cat.text\n",
    "        cat_urls[k] = u\n",
    "        cat_names[k] = t\n",
    "        cat_tree[h][t] = k + '.md'\n",
    "\n",
    "ya = yaml.dump(cat_tree, allow_unicode = True, encoding = None)\n",
    "ya = ya.replace('\\n ', '\\n -')\n",
    "print(ya)"
   ]
  },
  {
   "cell_type": "code",
   "execution_count": null,
   "metadata": {},
   "outputs": [],
   "source": [
    "import StorePerekr\n",
    "\n",
    "s = StorePerekr.Scrapper()\n",
    "s.max_cards = 3\n",
    "\n",
    "for cat in StorePerekr.CAT_URLS:\n",
    "    s.run_shortcards(cat)"
   ]
  },
  {
   "cell_type": "code",
   "execution_count": null,
   "metadata": {},
   "outputs": [
    {
     "data": {
      "text/plain": [
       "True"
      ]
     },
     "execution_count": 4,
     "metadata": {},
     "output_type": "execute_result"
    }
   ],
   "source": [
    "import webbrowser\n",
    "\n",
    "url = 'https://www.perekrestok.ru/'\n",
    "webbrowser.open(url, new=1, autoraise=True)"
   ]
  },
  {
   "cell_type": "code",
   "execution_count": null,
   "metadata": {},
   "outputs": [
    {
     "data": {
      "text/plain": [
       "'{\"content\":null,\"error\":{\"code\":\"ACCESS_TOKEN_INVALID\",\"message\":\"\"}}'"
      ]
     },
     "execution_count": 49,
     "metadata": {},
     "output_type": "execute_result"
    }
   ],
   "source": [
    "import mechanicalsoup as ms\n",
    "browser = mechanicalsoup.StatefulBrowser()\n",
    "browser.set_user_agent('Mozilla/5.0 (X11; Linux x86_64; rv:127.0) Gecko/20100101 Firefox/127.0')\n",
    "url = 'https://www.perekrestok.ru/'\n",
    "page = browser.open(url)\n",
    "\n",
    "page.headers\n",
    "browser.set_cookiejar = page.headers['Set-Cookie']\n",
    "\n",
    "\n",
    "#page.soup.find(class_='delivery-notify-text')\n",
    "#form = browser.select_form()\n",
    "#form.choose_submit('form_name_attr')\n",
    "#browser.submit_selected()\n",
    "\n",
    "r = browser.put('https://www.perekrestok.ru/api/customer/1.4.1.0/delivery/mode/pickup/1163')\n",
    "r.text"
   ]
  },
  {
   "cell_type": "code",
   "execution_count": 235,
   "metadata": {},
   "outputs": [],
   "source": [
    "from selenium import webdriver\n",
    "from selenium.webdriver.common.keys import Keys \n",
    "from selenium.webdriver.common.by import By\n",
    "from selenium.webdriver.common.actions.action_builder import ActionBuilder \n",
    "from selenium.webdriver.common.action_chains import ActionChains\n",
    "\n",
    "browser = webdriver.Firefox()\n",
    "browser.get('https://www.perekrestok.ru/')\n",
    "e = browser.find_element(By.CLASS_NAME, 'delivery-notify-btn')\n",
    "e.click()\n",
    "\n",
    "e = browser.find_element(By.ID, 'react-select-2-input')\n",
    "e.clear()\n",
    "e.send_keys('Москва')\n",
    "\n",
    "ActionChains(browser)\\\n",
    "    .move_to_element(e)\\\n",
    "    .click()\\\n",
    "    .move_to_element_with_offset(e, 0, 50)\\\n",
    "    .click()\\\n",
    "    .move_to_element_with_offset(e, 0, -50)\\\n",
    "    .click()\\\n",
    "    .perform()\n"
   ]
  },
  {
   "cell_type": "code",
   "execution_count": null,
   "metadata": {},
   "outputs": [],
   "source": []
  },
  {
   "cell_type": "code",
   "execution_count": null,
   "metadata": {},
   "outputs": [],
   "source": []
  },
  {
   "cell_type": "code",
   "execution_count": null,
   "metadata": {},
   "outputs": [],
   "source": [
    "e = browser.find_element(By.CLASS_NAME, 'fmQzcB')\n",
    "e.click()\n"
   ]
  },
  {
   "cell_type": "code",
   "execution_count": null,
   "metadata": {},
   "outputs": [],
   "source": [
    "e = browser.find_element(By.CLASS_NAME, 'hNvVqm')\n",
    "e.click()\n",
    "\n"
   ]
  },
  {
   "cell_type": "code",
   "execution_count": null,
   "metadata": {},
   "outputs": [],
   "source": []
  },
  {
   "cell_type": "code",
   "execution_count": null,
   "metadata": {},
   "outputs": [],
   "source": []
  }
 ],
 "metadata": {
  "kernelspec": {
   "display_name": "scrap",
   "language": "python",
   "name": "python3"
  },
  "language_info": {
   "codemirror_mode": {
    "name": "ipython",
    "version": 3
   },
   "file_extension": ".py",
   "mimetype": "text/x-python",
   "name": "python",
   "nbconvert_exporter": "python",
   "pygments_lexer": "ipython3",
   "version": "3.12.4"
  }
 },
 "nbformat": 4,
 "nbformat_minor": 2
}
