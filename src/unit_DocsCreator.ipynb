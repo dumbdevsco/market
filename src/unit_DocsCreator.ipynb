{
 "cells": [
  {
   "cell_type": "code",
   "execution_count": 4,
   "metadata": {},
   "outputs": [
    {
     "name": "stdout",
     "output_type": "stream",
     "text": [
      "moloko\n"
     ]
    }
   ],
   "source": [
    "import StorePerekr\n",
    "import csv\n",
    "\n",
    "catnames = StorePerekr.CAT_URLS\n",
    "#catnames = ['moloko']\n",
    "\n",
    "for catname in catnames:\n",
    "    print(catname)\n",
    "\n",
    "    s = StorePerekr.Scrapper()\n",
    "    s.run_shortcards(catname)\n",
    "\n",
    "    csvdelim = '\\t'\n",
    "    csvfname = '../tsv/perekr/' + catname + '.tsv'\n",
    "    csvfile = open(csvfname, 'r', newline='')\n",
    "    csvitems = list(csv.DictReader(csvfile, delimiter=csvdelim))\n",
    "\n",
    "    mdfname = '../mkdocs/docs/' + catname + '.md'\n",
    "    mdfile = open(mdfname, 'w', newline='')\n",
    "\n",
    "    mdcathead = '''---\n",
    "search:\n",
    "    exclude: true\n",
    "hide:\n",
    "    - toc\n",
    "---'''\n",
    "\n",
    "    mdfile.write(mdcathead)\n",
    "\n",
    "    mdfile.write('\\n\\n')\n",
    "    mdfile.write('| Наименование | Цена (руб.) | Цена за 100 ед. (руб.) |\\n')\n",
    "    mdfile.write('| -- | -- | -- |\\n')\n",
    "\n",
    "    import re\n",
    "\n",
    "    for item in csvitems:\n",
    "        name = item['name']\n",
    "        \n",
    "        size = re.sub(r\"[^\\d\\,.]\", \"\", item['size'])\n",
    "        if not size:\n",
    "            size = '1000'\n",
    "\n",
    "        brand = item['brand']\n",
    "        price = re.sub(r\"[^\\d\\,.]\", \"\", item['price']).replace(',', '.')\n",
    "        price100 = '{:.2f}'.format(float(price)/float(size)*100)\n",
    "\n",
    "        if brand == 'none':\n",
    "            brand = 'н/д'\n",
    "        \n",
    "        mdfile.write('| ' + ' | '.join([name, price, price100 ]) + ' |\\n')\n",
    "\n",
    "    mdfile.close()"
   ]
  }
 ],
 "metadata": {
  "kernelspec": {
   "display_name": "scrap",
   "language": "python",
   "name": "python3"
  },
  "language_info": {
   "codemirror_mode": {
    "name": "ipython",
    "version": 3
   },
   "file_extension": ".py",
   "mimetype": "text/x-python",
   "name": "python",
   "nbconvert_exporter": "python",
   "pygments_lexer": "ipython3",
   "version": "3.12.4"
  }
 },
 "nbformat": 4,
 "nbformat_minor": 2
}
