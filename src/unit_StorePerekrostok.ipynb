{
 "cells": [
  {
   "cell_type": "markdown",
   "metadata": {},
   "source": [
    "# Перекресток"
   ]
  },
  {
   "cell_type": "markdown",
   "metadata": {},
   "source": [
    "## Обновление перечня товаров"
   ]
  },
  {
   "cell_type": "markdown",
   "metadata": {},
   "source": [
    "### Для одной категории"
   ]
  },
  {
   "cell_type": "code",
   "execution_count": null,
   "metadata": {},
   "outputs": [],
   "source": [
    "cat = 'moloko'\n",
    "\n",
    "import StorePerek\n",
    "s = StorePerekrestok.Scrapper()\n",
    "s.run_shortcards(cat)"
   ]
  },
  {
   "cell_type": "markdown",
   "metadata": {},
   "source": [
    "### Для всех категорий"
   ]
  },
  {
   "cell_type": "code",
   "execution_count": null,
   "metadata": {},
   "outputs": [],
   "source": [
    "import StorePerek\n",
    "s = StorePerekrestok.Scrapper()\n",
    "for cat in StorePerekrestok.CAT_URLS:\n",
    "    s.run_shortcards(cat)"
   ]
  },
  {
   "cell_type": "markdown",
   "metadata": {},
   "source": [
    "## Обновление карточек товаров"
   ]
  },
  {
   "cell_type": "markdown",
   "metadata": {},
   "source": [
    "### Для одной категории"
   ]
  },
  {
   "cell_type": "code",
   "execution_count": null,
   "metadata": {},
   "outputs": [],
   "source": [
    "cat = 'moloko'\n",
    "\n",
    "import StorePerek\n",
    "s = StorePerekrestok.Scrapper()\n",
    "s.max_cards = 999\n",
    "s.run_fullcards(cat)"
   ]
  },
  {
   "cell_type": "markdown",
   "metadata": {},
   "source": [
    "### Для всех категорий"
   ]
  },
  {
   "cell_type": "code",
   "execution_count": null,
   "metadata": {},
   "outputs": [],
   "source": [
    "import StorePerek\n",
    "s = StorePerekrestok.Scrapper()\n",
    "s.max_cards = 999\n",
    "for cat in StorePerekrestok.CAT_URLS:\n",
    "    s.run_fullcards(cat)"
   ]
  },
  {
   "cell_type": "markdown",
   "metadata": {},
   "source": [
    "## Построение списка ссылок категорий товаров"
   ]
  },
  {
   "cell_type": "code",
   "execution_count": 1,
   "metadata": {},
   "outputs": [
    {
     "name": "stdout",
     "output_type": "stream",
     "text": [
      "/cat/mc/1255/leto-solnce-zara\n",
      "/cat/mc/282/ot-perekrestka\n",
      "/cat/mc/25/gotovaa-eda\n",
      "/cat/mc/113/moloko-syr-ajca\n",
      "/cat/mc/148/ovosi-frukty-griby\n",
      "/cat/mc/100/makarony-krupy-maslo-specii\n",
      "/cat/mc/708/cipsy-sneki-popkorn\n",
      "/cat/mc/187/sokolad-konfety-sladosti\n",
      "/cat/mc/205/soki-vody-napitki\n",
      "/cat/mc/242/hleb-i-vypecka\n",
      "/cat/mc/132/maso-i-ptica\n",
      "/cat/mc/782/kolbasnye-izdelia\n",
      "/cat/mc/174/ryba\n",
      "/cat/mc/54/zamorozennye-produkty\n",
      "/cat/mc/793/moreprodukty\n",
      "/cat/mc/229/tovary-dla-mam-i-detej\n",
      "/cat/mc/217/sousy-ketcupy-majonezy\n",
      "/cat/mc/79/kofe-caj-kakao-sahar\n",
      "/cat/mc/224/suhie-zavtraki-musli\n",
      "/cat/mc/168/produkty-bystrogo-prigotovlenia\n",
      "/cat/mc/74/konservacia\n",
      "/cat/mc/64/zdorove\n",
      "/cat/mc/157/orehi-semecki-suhofrukty\n",
      "/cat/mc/108/med-varene-dzemy-siropy\n",
      "/cat/mc/66/zootovary\n",
      "/cat/mc/84/krasota-gigiena-apteka\n",
      "/cat/mc/236/uborka\n",
      "/cat/mc/162/posuda\n",
      "/cat/mc/35/dla-doma-i-daci\n",
      "/cat/mc/1/alkogolnye-napitki\n",
      "/cat/mc/248/sistemy-nagrevania-tabak\n"
     ]
    }
   ],
   "source": [
    "import requests\n",
    "from bs4 import BeautifulSoup\n",
    "\n",
    "url_base = 'https://www.perekrestok.ru'\n",
    "req = requests.get(url_base + '/cat')\n",
    "bs = BeautifulSoup(req.text, 'html.parser')\n",
    "cats = bs.find_all(class_='category-filter-item__header')\n",
    "for cat in cats:\n",
    "    print(cat.find('a').get('href'))"
   ]
  },
  {
   "cell_type": "markdown",
   "metadata": {},
   "source": [
    "## Построение дерева категорий товаров"
   ]
  },
  {
   "cell_type": "code",
   "execution_count": null,
   "metadata": {},
   "outputs": [],
   "source": [
    "import requests\n",
    "from bs4 import BeautifulSoup\n",
    "import yaml\n",
    "\n",
    "url_base = 'https://www.perekrestok.ru'\n",
    "\n",
    "ROOT_URLS = [\n",
    "    '/cat/mc/113/moloko-syr-ajca',\n",
    "    '/cat/mc/148/ovosi-frukty-griby',\n",
    "    '/cat/mc/100/makarony-krupy-maslo-specii',\n",
    "    '/cat/mc/708/cipsy-sneki-popkorn',\n",
    "    '/cat/mc/187/sokolad-konfety-sladosti',\n",
    "    '/cat/mc/205/soki-vody-napitki',\n",
    "    '/cat/mc/242/hleb-i-vypecka',\n",
    "    '/cat/mc/132/maso-i-ptica',\n",
    "    '/cat/mc/782/kolbasnye-izdelia',\n",
    "    '/cat/mc/174/ryba',\n",
    "    '/cat/mc/54/zamorozennye-produkty',\n",
    "    '/cat/mc/793/moreprodukty',\n",
    "    '/cat/mc/217/sousy-ketcupy-majonezy',\n",
    "    '/cat/mc/79/kofe-caj-kakao-sahar',\n",
    "    '/cat/mc/224/suhie-zavtraki-musli',\n",
    "    '/cat/mc/168/produkty-bystrogo-prigotovlenia',\n",
    "    '/cat/mc/74/konservacia',\n",
    "    '/cat/mc/157/orehi-semecki-suhofrukty',\n",
    "    '/cat/mc/108/med-varene-dzemy-siropy',\n",
    "    '/cat/mc/1/alkogolnye-napitki',\n",
    "]\n",
    "\n",
    "cat_urls = {}\n",
    "cat_names = {}\n",
    "cat_tree = {}\n",
    "for url in ROOT_URLS:\n",
    "    print(url)\n",
    "    req = requests.get(url_base + url)\n",
    "    bs = BeautifulSoup(req.text, 'html.parser')\n",
    "    cats = bs.find(class_='category-filter-item__content').find_all('a')\n",
    "    h = bs.find(class_='category-filter-item__header').find('span').text\n",
    "    print(h)\n",
    "    cat_tree[h] = {}\n",
    "    for cat in cats:\n",
    "        u = cat.get('href')\n",
    "        k = u.split('/')[-1]\n",
    "        t = cat.text\n",
    "        cat_urls[k] = u\n",
    "        cat_names[k] = t\n",
    "        cat_tree[h][t] = k + '.md'\n",
    "\n",
    "ya = yaml.dump(cat_tree, allow_unicode = True, encoding = None)\n",
    "ya = ya.replace('\\n ', '\\n -')\n",
    "print(ya)"
   ]
  },
  {
   "cell_type": "markdown",
   "metadata": {},
   "source": [
    "## Черновики"
   ]
  },
  {
   "cell_type": "code",
   "execution_count": 3,
   "metadata": {},
   "outputs": [
    {
     "data": {
      "text/plain": [
       "<selenium.webdriver.firefox.webdriver.WebDriver (session=\"87d26036-5906-41fa-b05c-a61ef7954730\")>"
      ]
     },
     "execution_count": 3,
     "metadata": {},
     "output_type": "execute_result"
    }
   ],
   "source": [
    "import StorePerek\n",
    "StorePerek.get_local_browser('Санкт-Петербург, Биржевая площадь, 4')"
   ]
  },
  {
   "cell_type": "code",
   "execution_count": 5,
   "metadata": {},
   "outputs": [
    {
     "ename": "InvalidSessionIdException",
     "evalue": "Message: WebDriver session does not exist, or is not active\nStacktrace:\nRemoteError@chrome://remote/content/shared/RemoteError.sys.mjs:8:8\nWebDriverError@chrome://remote/content/shared/webdriver/Errors.sys.mjs:193:5\nInvalidSessionIDError@chrome://remote/content/shared/webdriver/Errors.sys.mjs:448:5\nassert.that/<@chrome://remote/content/shared/webdriver/Assert.sys.mjs:515:13\nassert.session@chrome://remote/content/shared/webdriver/Assert.sys.mjs:37:4\ndespatch@chrome://remote/content/marionette/server.sys.mjs:315:19\nexecute@chrome://remote/content/marionette/server.sys.mjs:289:16\nonPacket/<@chrome://remote/content/marionette/server.sys.mjs:262:20\nonPacket@chrome://remote/content/marionette/server.sys.mjs:263:9\n_onJSONObjectReady/<@chrome://remote/content/marionette/transport.sys.mjs:494:20\n",
     "output_type": "error",
     "traceback": [
      "\u001b[0;31m---------------------------------------------------------------------------\u001b[0m",
      "\u001b[0;31mInvalidSessionIdException\u001b[0m                 Traceback (most recent call last)",
      "Cell \u001b[0;32mIn[5], line 2\u001b[0m\n\u001b[1;32m      1\u001b[0m \u001b[38;5;28;01mimport\u001b[39;00m \u001b[38;5;21;01mStorePerek\u001b[39;00m\n\u001b[0;32m----> 2\u001b[0m scards \u001b[38;5;241m=\u001b[39m \u001b[43mStorePerek\u001b[49m\u001b[38;5;241;43m.\u001b[39;49m\u001b[43mrun_localprice\u001b[49m\u001b[43m(\u001b[49m\u001b[43m)\u001b[49m\n",
      "File \u001b[0;32m~/Projects/market/src/StorePerek.py:228\u001b[0m, in \u001b[0;36mrun_localprice\u001b[0;34m()\u001b[0m\n\u001b[1;32m    226\u001b[0m \u001b[38;5;28;01mdef\u001b[39;00m \u001b[38;5;21mrun_localprice\u001b[39m():\n\u001b[1;32m    227\u001b[0m     \u001b[38;5;28;01mfor\u001b[39;00m loc \u001b[38;5;129;01min\u001b[39;00m DELIV_LOCS:\n\u001b[0;32m--> 228\u001b[0m         bro \u001b[38;5;241m=\u001b[39m get_local_browser(DELIV_LOCS[loc])\n\u001b[1;32m    229\u001b[0m         scr \u001b[38;5;241m=\u001b[39m StorePerek\u001b[38;5;241m.\u001b[39mScrapper()\n\u001b[1;32m    230\u001b[0m         \u001b[38;5;28;01mfor\u001b[39;00m cat \u001b[38;5;129;01min\u001b[39;00m CAT_URLS:\n",
      "File \u001b[0;32m~/Projects/market/src/StorePerek.py:273\u001b[0m, in \u001b[0;36mget_local_browser\u001b[0;34m(loc)\u001b[0m\n\u001b[1;32m    263\u001b[0m e\u001b[38;5;241m.\u001b[39mclear()\n\u001b[1;32m    264\u001b[0m e\u001b[38;5;241m.\u001b[39msend_keys(loc)\n\u001b[1;32m    266\u001b[0m ActionChains(browser)\\\n\u001b[1;32m    267\u001b[0m     \u001b[38;5;241m.\u001b[39mpause(\u001b[38;5;241m2\u001b[39m)\\\n\u001b[1;32m    268\u001b[0m     \u001b[38;5;241m.\u001b[39mmove_to_element(e)\\\n\u001b[1;32m    269\u001b[0m     \u001b[38;5;241m.\u001b[39mclick()\\\n\u001b[1;32m    270\u001b[0m     \u001b[38;5;241m.\u001b[39mmove_to_element_with_offset(e, \u001b[38;5;241m0\u001b[39m, \u001b[38;5;241m50\u001b[39m)\\\n\u001b[1;32m    271\u001b[0m     \u001b[38;5;241m.\u001b[39mclick()\\\n\u001b[1;32m    272\u001b[0m     \u001b[38;5;241m.\u001b[39mmove_to_element_with_offset(e, \u001b[38;5;241m0\u001b[39m, \u001b[38;5;241m-\u001b[39m\u001b[38;5;241m50\u001b[39m)\\\n\u001b[0;32m--> 273\u001b[0m     \u001b[38;5;241m.\u001b[39mclick()\\\n\u001b[1;32m    274\u001b[0m     \u001b[38;5;241m.\u001b[39mperform()\n\u001b[1;32m    276\u001b[0m e \u001b[38;5;241m=\u001b[39m browser\u001b[38;5;241m.\u001b[39mfind_element(By\u001b[38;5;241m.\u001b[39mCLASS_NAME, \u001b[38;5;124m'\u001b[39m\u001b[38;5;124mdelivery-status__submit\u001b[39m\u001b[38;5;124m'\u001b[39m)\n\u001b[1;32m    277\u001b[0m e\u001b[38;5;241m.\u001b[39mclick()\n",
      "File \u001b[0;32m~/mambaforge/envs/scrap/lib/python3.12/site-packages/selenium/webdriver/remote/webdriver.py:748\u001b[0m, in \u001b[0;36mWebDriver.find_element\u001b[0;34m(self, by, value)\u001b[0m\n\u001b[1;32m    745\u001b[0m     by \u001b[38;5;241m=\u001b[39m By\u001b[38;5;241m.\u001b[39mCSS_SELECTOR\n\u001b[1;32m    746\u001b[0m     value \u001b[38;5;241m=\u001b[39m \u001b[38;5;124mf\u001b[39m\u001b[38;5;124m'\u001b[39m\u001b[38;5;124m[name=\u001b[39m\u001b[38;5;124m\"\u001b[39m\u001b[38;5;132;01m{\u001b[39;00mvalue\u001b[38;5;132;01m}\u001b[39;00m\u001b[38;5;124m\"\u001b[39m\u001b[38;5;124m]\u001b[39m\u001b[38;5;124m'\u001b[39m\n\u001b[0;32m--> 748\u001b[0m \u001b[38;5;28;01mreturn\u001b[39;00m \u001b[38;5;28;43mself\u001b[39;49m\u001b[38;5;241;43m.\u001b[39;49m\u001b[43mexecute\u001b[49m\u001b[43m(\u001b[49m\u001b[43mCommand\u001b[49m\u001b[38;5;241;43m.\u001b[39;49m\u001b[43mFIND_ELEMENT\u001b[49m\u001b[43m,\u001b[49m\u001b[43m \u001b[49m\u001b[43m{\u001b[49m\u001b[38;5;124;43m\"\u001b[39;49m\u001b[38;5;124;43musing\u001b[39;49m\u001b[38;5;124;43m\"\u001b[39;49m\u001b[43m:\u001b[49m\u001b[43m \u001b[49m\u001b[43mby\u001b[49m\u001b[43m,\u001b[49m\u001b[43m \u001b[49m\u001b[38;5;124;43m\"\u001b[39;49m\u001b[38;5;124;43mvalue\u001b[39;49m\u001b[38;5;124;43m\"\u001b[39;49m\u001b[43m:\u001b[49m\u001b[43m \u001b[49m\u001b[43mvalue\u001b[49m\u001b[43m}\u001b[49m\u001b[43m)\u001b[49m[\u001b[38;5;124m\"\u001b[39m\u001b[38;5;124mvalue\u001b[39m\u001b[38;5;124m\"\u001b[39m]\n",
      "File \u001b[0;32m~/mambaforge/envs/scrap/lib/python3.12/site-packages/selenium/webdriver/remote/webdriver.py:354\u001b[0m, in \u001b[0;36mWebDriver.execute\u001b[0;34m(self, driver_command, params)\u001b[0m\n\u001b[1;32m    352\u001b[0m response \u001b[38;5;241m=\u001b[39m \u001b[38;5;28mself\u001b[39m\u001b[38;5;241m.\u001b[39mcommand_executor\u001b[38;5;241m.\u001b[39mexecute(driver_command, params)\n\u001b[1;32m    353\u001b[0m \u001b[38;5;28;01mif\u001b[39;00m response:\n\u001b[0;32m--> 354\u001b[0m     \u001b[38;5;28;43mself\u001b[39;49m\u001b[38;5;241;43m.\u001b[39;49m\u001b[43merror_handler\u001b[49m\u001b[38;5;241;43m.\u001b[39;49m\u001b[43mcheck_response\u001b[49m\u001b[43m(\u001b[49m\u001b[43mresponse\u001b[49m\u001b[43m)\u001b[49m\n\u001b[1;32m    355\u001b[0m     response[\u001b[38;5;124m\"\u001b[39m\u001b[38;5;124mvalue\u001b[39m\u001b[38;5;124m\"\u001b[39m] \u001b[38;5;241m=\u001b[39m \u001b[38;5;28mself\u001b[39m\u001b[38;5;241m.\u001b[39m_unwrap_value(response\u001b[38;5;241m.\u001b[39mget(\u001b[38;5;124m\"\u001b[39m\u001b[38;5;124mvalue\u001b[39m\u001b[38;5;124m\"\u001b[39m, \u001b[38;5;28;01mNone\u001b[39;00m))\n\u001b[1;32m    356\u001b[0m     \u001b[38;5;28;01mreturn\u001b[39;00m response\n",
      "File \u001b[0;32m~/mambaforge/envs/scrap/lib/python3.12/site-packages/selenium/webdriver/remote/errorhandler.py:229\u001b[0m, in \u001b[0;36mErrorHandler.check_response\u001b[0;34m(self, response)\u001b[0m\n\u001b[1;32m    227\u001b[0m         alert_text \u001b[38;5;241m=\u001b[39m value[\u001b[38;5;124m\"\u001b[39m\u001b[38;5;124malert\u001b[39m\u001b[38;5;124m\"\u001b[39m]\u001b[38;5;241m.\u001b[39mget(\u001b[38;5;124m\"\u001b[39m\u001b[38;5;124mtext\u001b[39m\u001b[38;5;124m\"\u001b[39m)\n\u001b[1;32m    228\u001b[0m     \u001b[38;5;28;01mraise\u001b[39;00m exception_class(message, screen, stacktrace, alert_text)  \u001b[38;5;66;03m# type: ignore[call-arg]  # mypy is not smart enough here\u001b[39;00m\n\u001b[0;32m--> 229\u001b[0m \u001b[38;5;28;01mraise\u001b[39;00m exception_class(message, screen, stacktrace)\n",
      "\u001b[0;31mInvalidSessionIdException\u001b[0m: Message: WebDriver session does not exist, or is not active\nStacktrace:\nRemoteError@chrome://remote/content/shared/RemoteError.sys.mjs:8:8\nWebDriverError@chrome://remote/content/shared/webdriver/Errors.sys.mjs:193:5\nInvalidSessionIDError@chrome://remote/content/shared/webdriver/Errors.sys.mjs:448:5\nassert.that/<@chrome://remote/content/shared/webdriver/Assert.sys.mjs:515:13\nassert.session@chrome://remote/content/shared/webdriver/Assert.sys.mjs:37:4\ndespatch@chrome://remote/content/marionette/server.sys.mjs:315:19\nexecute@chrome://remote/content/marionette/server.sys.mjs:289:16\nonPacket/<@chrome://remote/content/marionette/server.sys.mjs:262:20\nonPacket@chrome://remote/content/marionette/server.sys.mjs:263:9\n_onJSONObjectReady/<@chrome://remote/content/marionette/transport.sys.mjs:494:20\n"
     ]
    }
   ],
   "source": [
    "import StorePerek\n",
    "scards = StorePerek.run_localprice()"
   ]
  }
 ],
 "metadata": {
  "kernelspec": {
   "display_name": "scrap",
   "language": "python",
   "name": "python3"
  },
  "language_info": {
   "codemirror_mode": {
    "name": "ipython",
    "version": 3
   },
   "file_extension": ".py",
   "mimetype": "text/x-python",
   "name": "python",
   "nbconvert_exporter": "python",
   "pygments_lexer": "ipython3",
   "version": "3.12.4"
  }
 },
 "nbformat": 4,
 "nbformat_minor": 2
}
