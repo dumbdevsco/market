{
 "cells": [
  {
   "cell_type": "markdown",
   "metadata": {},
   "source": [
    "# Перекресток"
   ]
  },
  {
   "cell_type": "markdown",
   "metadata": {},
   "source": [
    "## Обновление перечня товаров"
   ]
  },
  {
   "cell_type": "markdown",
   "metadata": {},
   "source": [
    "### Для одной категории"
   ]
  },
  {
   "cell_type": "code",
   "execution_count": 3,
   "metadata": {},
   "outputs": [
    {
     "data": {
      "text/plain": [
       "[{'name': 'Кальвадос Morin Selection категория AOC 40%, 700мл',\n",
       "  'price': '2 199,00\\xa0₽/шт',\n",
       "  'size': '700 мл',\n",
       "  'url': 'https://www.perekrestok.ru/cat/14/p/kalvados-morin-selection-kategoria-aoc-40-700ml-4263600',\n",
       "  'time': 'Sat Jul  6 22:28:34 2024',\n",
       "  'name_': 'none',\n",
       "  'price_': 'none',\n",
       "  'brand': 'none',\n",
       "  'calories': 'none',\n",
       "  'proteins': 'none',\n",
       "  'fats': 'none',\n",
       "  'carbos': 'none',\n",
       "  'composition': 'none',\n",
       "  'get_ok': 'none',\n",
       "  'parse_ok': 'none',\n",
       "  'time_': 'none'},\n",
       " {'name': 'Бренди Soberano Reserva 5 в подарочной упаковке 36%, 700мл',\n",
       "  'price': '1 399,00\\xa0₽/шт',\n",
       "  'size': '700 мл',\n",
       "  'url': 'https://www.perekrestok.ru/cat/14/p/brendi-soberano-reserva-5-v-podarocnoj-upakovke-36-700ml-4172371',\n",
       "  'time': 'Sat Jul  6 22:28:34 2024',\n",
       "  'name_': 'none',\n",
       "  'price_': 'none',\n",
       "  'brand': 'none',\n",
       "  'calories': 'none',\n",
       "  'proteins': 'none',\n",
       "  'fats': 'none',\n",
       "  'carbos': 'none',\n",
       "  'composition': 'none',\n",
       "  'get_ok': 'none',\n",
       "  'parse_ok': 'none',\n",
       "  'time_': 'none'},\n",
       " {'name': 'Бренди Сortel Наполеон в подарочной коробке, 700мл',\n",
       "  'price': '2 199,00\\xa0₽/шт',\n",
       "  'size': '700 мл',\n",
       "  'url': 'https://www.perekrestok.ru/cat/14/p/brendi-sortel-napoleon-v-podarocnoj-korobke-700ml-4169863',\n",
       "  'time': 'Sat Jul  6 22:28:34 2024',\n",
       "  'name_': 'none',\n",
       "  'price_': 'none',\n",
       "  'brand': 'none',\n",
       "  'calories': 'none',\n",
       "  'proteins': 'none',\n",
       "  'fats': 'none',\n",
       "  'carbos': 'none',\n",
       "  'composition': 'none',\n",
       "  'get_ok': 'none',\n",
       "  'parse_ok': 'none',\n",
       "  'time_': 'none'},\n",
       " {'name': 'Бренди Barrel 40%, 500мл',\n",
       "  'price': '479,99\\xa0₽/шт',\n",
       "  'size': '500 мл',\n",
       "  'url': 'https://www.perekrestok.ru/cat/14/p/brendi-barrel-40-500ml-3684688',\n",
       "  'time': 'Sat Jul  6 22:28:34 2024',\n",
       "  'name_': 'none',\n",
       "  'price_': 'none',\n",
       "  'brand': 'none',\n",
       "  'calories': 'none',\n",
       "  'proteins': 'none',\n",
       "  'fats': 'none',\n",
       "  'carbos': 'none',\n",
       "  'composition': 'none',\n",
       "  'get_ok': 'none',\n",
       "  'parse_ok': 'none',\n",
       "  'time_': 'none'},\n",
       " {'name': 'Бренди Сortel ХО Суперио в подарочной коробке, 700мл',\n",
       "  'price': '2 599,00\\xa0₽/шт',\n",
       "  'size': '700 мл',\n",
       "  'url': 'https://www.perekrestok.ru/cat/14/p/brendi-sortel-ho-superio-v-podarocnoj-korobke-700ml-4170358',\n",
       "  'time': 'Sat Jul  6 22:28:34 2024',\n",
       "  'name_': 'none',\n",
       "  'price_': 'none',\n",
       "  'brand': 'none',\n",
       "  'calories': 'none',\n",
       "  'proteins': 'none',\n",
       "  'fats': 'none',\n",
       "  'carbos': 'none',\n",
       "  'composition': 'none',\n",
       "  'get_ok': 'none',\n",
       "  'parse_ok': 'none',\n",
       "  'time_': 'none'},\n",
       " {'name': 'Бренди Rubinov Виньяк VS 40%, 500мл',\n",
       "  'price': '1 359,00\\xa0₽/шт',\n",
       "  'size': '500 мл',\n",
       "  'url': 'https://www.perekrestok.ru/cat/14/p/brendi-rubinov-vinak-vs-40-500ml-4233752',\n",
       "  'time': 'Sat Jul  6 22:28:34 2024',\n",
       "  'name_': 'none',\n",
       "  'price_': 'none',\n",
       "  'brand': 'none',\n",
       "  'calories': 'none',\n",
       "  'proteins': 'none',\n",
       "  'fats': 'none',\n",
       "  'carbos': 'none',\n",
       "  'composition': 'none',\n",
       "  'get_ok': 'none',\n",
       "  'parse_ok': 'none',\n",
       "  'time_': 'none'},\n",
       " {'name': 'Бренди Torres 10 Гран Резерва 38%, 200мл',\n",
       "  'price': '559,99\\xa0₽/шт',\n",
       "  'size': '200 мл',\n",
       "  'url': 'https://www.perekrestok.ru/cat/14/p/brendi-torres-10-gran-rezerva-38-200ml-4152147',\n",
       "  'time': 'Sat Jul  6 22:28:34 2024',\n",
       "  'name_': 'none',\n",
       "  'price_': 'none',\n",
       "  'brand': 'none',\n",
       "  'calories': 'none',\n",
       "  'proteins': 'none',\n",
       "  'fats': 'none',\n",
       "  'carbos': 'none',\n",
       "  'composition': 'none',\n",
       "  'get_ok': 'none',\n",
       "  'parse_ok': 'none',\n",
       "  'time_': 'none'},\n",
       " {'name': 'Бренди Torres Гран Ресерва 10 38% в подарочной упаковке, 700мл',\n",
       "  'price': '1 499,00\\xa0₽/шт',\n",
       "  'size': '700 мл',\n",
       "  'url': 'https://www.perekrestok.ru/cat/14/p/brendi-torres-gran-reserva-10-38-v-podarocnoj-upakovke-700ml-39490',\n",
       "  'time': 'Sat Jul  6 22:28:34 2024',\n",
       "  'name_': 'none',\n",
       "  'price_': 'none',\n",
       "  'brand': 'none',\n",
       "  'calories': 'none',\n",
       "  'proteins': 'none',\n",
       "  'fats': 'none',\n",
       "  'carbos': 'none',\n",
       "  'composition': 'none',\n",
       "  'get_ok': 'none',\n",
       "  'parse_ok': 'none',\n",
       "  'time_': 'none'},\n",
       " {'name': 'Бренди Кизлярский Марочный 40%, 250мл',\n",
       "  'price': '419,99\\xa0₽/шт',\n",
       "  'size': '250 мл',\n",
       "  'url': 'https://www.perekrestok.ru/cat/14/p/brendi-kizlarskij-marocnyj-40-250ml-4207331',\n",
       "  'time': 'Sat Jul  6 22:28:34 2024',\n",
       "  'name_': 'none',\n",
       "  'price_': 'none',\n",
       "  'brand': 'none',\n",
       "  'calories': 'none',\n",
       "  'proteins': 'none',\n",
       "  'fats': 'none',\n",
       "  'carbos': 'none',\n",
       "  'composition': 'none',\n",
       "  'get_ok': 'none',\n",
       "  'parse_ok': 'none',\n",
       "  'time_': 'none'},\n",
       " {'name': 'Бренди Кизлярский Марочный 40%, 500мл',\n",
       "  'price': '589,99\\xa0₽/шт',\n",
       "  'size': '500 мл',\n",
       "  'url': 'https://www.perekrestok.ru/cat/14/p/brendi-kizlarskij-marocnyj-40-500ml-3412218',\n",
       "  'time': 'Sat Jul  6 22:28:34 2024',\n",
       "  'name_': 'none',\n",
       "  'price_': 'none',\n",
       "  'brand': 'none',\n",
       "  'calories': 'none',\n",
       "  'proteins': 'none',\n",
       "  'fats': 'none',\n",
       "  'carbos': 'none',\n",
       "  'composition': 'none',\n",
       "  'get_ok': 'none',\n",
       "  'parse_ok': 'none',\n",
       "  'time_': 'none'},\n",
       " {'name': 'Кальвадос Morin Selection категория AOC 40%, 700мл',\n",
       "  'price': '2 199,00\\xa0₽/шт',\n",
       "  'size': '700 мл',\n",
       "  'url': 'https://www.perekrestok.ru/cat/14/p/kalvados-morin-selection-kategoria-aoc-40-700ml-4263600',\n",
       "  'time': 'Sat Jul  6 22:28:34 2024',\n",
       "  'name_': 'none',\n",
       "  'price_': 'none',\n",
       "  'brand': 'none',\n",
       "  'calories': 'none',\n",
       "  'proteins': 'none',\n",
       "  'fats': 'none',\n",
       "  'carbos': 'none',\n",
       "  'composition': 'none',\n",
       "  'get_ok': 'none',\n",
       "  'parse_ok': 'none',\n",
       "  'time_': 'none'},\n",
       " {'name': 'Спиртной напиток Виват Армения 35%, 500мл',\n",
       "  'price': '489,99\\xa0₽/шт',\n",
       "  'size': '500 мл',\n",
       "  'url': 'https://www.perekrestok.ru/cat/14/p/spirtnoj-napitok-vivat-armenia-35-500ml-4280061',\n",
       "  'time': 'Sat Jul  6 22:28:34 2024',\n",
       "  'name_': 'none',\n",
       "  'price_': 'none',\n",
       "  'brand': 'none',\n",
       "  'calories': 'none',\n",
       "  'proteins': 'none',\n",
       "  'fats': 'none',\n",
       "  'carbos': 'none',\n",
       "  'composition': 'none',\n",
       "  'get_ok': 'none',\n",
       "  'parse_ok': 'none',\n",
       "  'time_': 'none'},\n",
       " {'name': 'Спиртной напиток Uhuru Кофе Мокка с ароматом кофе, 750мл',\n",
       "  'price': '659,99\\xa0₽/шт',\n",
       "  'size': '750 мл',\n",
       "  'url': 'https://www.perekrestok.ru/cat/14/p/spirtnoj-napitok-uhuru-kofe-mokka-s-aromatom-kofe-750ml-4195704',\n",
       "  'time': 'Sat Jul  6 22:28:34 2024',\n",
       "  'name_': 'none',\n",
       "  'price_': 'none',\n",
       "  'brand': 'none',\n",
       "  'calories': 'none',\n",
       "  'proteins': 'none',\n",
       "  'fats': 'none',\n",
       "  'carbos': 'none',\n",
       "  'composition': 'none',\n",
       "  'get_ok': 'none',\n",
       "  'parse_ok': 'none',\n",
       "  'time_': 'none'},\n",
       " {'name': 'Спиртной напиток Uhuru Синамон с ароматом корицы, 750мл',\n",
       "  'price': '659,99\\xa0₽/шт',\n",
       "  'size': '750 мл',\n",
       "  'url': 'https://www.perekrestok.ru/cat/14/p/spirtnoj-napitok-uhuru-sinamon-s-aromatom-koricy-750ml-4195701',\n",
       "  'time': 'Sat Jul  6 22:28:34 2024',\n",
       "  'name_': 'none',\n",
       "  'price_': 'none',\n",
       "  'brand': 'none',\n",
       "  'calories': 'none',\n",
       "  'proteins': 'none',\n",
       "  'fats': 'none',\n",
       "  'carbos': 'none',\n",
       "  'composition': 'none',\n",
       "  'get_ok': 'none',\n",
       "  'parse_ok': 'none',\n",
       "  'time_': 'none'}]"
      ]
     },
     "execution_count": 3,
     "metadata": {},
     "output_type": "execute_result"
    }
   ],
   "source": [
    "import StorePerek\n",
    "cat = 'brendi'\n",
    "scr = StorePerek.Scrapper()\n",
    "scr.run_shortcards(cat)"
   ]
  },
  {
   "cell_type": "markdown",
   "metadata": {},
   "source": [
    "### Для всех категорий"
   ]
  },
  {
   "cell_type": "code",
   "execution_count": null,
   "metadata": {},
   "outputs": [],
   "source": [
    "import StorePerek\n",
    "StorePerek.run_shortcards()"
   ]
  },
  {
   "cell_type": "markdown",
   "metadata": {},
   "source": [
    "## Обновление карточек товаров"
   ]
  },
  {
   "cell_type": "markdown",
   "metadata": {},
   "source": [
    "### Для одной категории"
   ]
  },
  {
   "cell_type": "code",
   "execution_count": 4,
   "metadata": {},
   "outputs": [
    {
     "name": "stdout",
     "output_type": "stream",
     "text": [
      "{'name': 'Кальвадос Morin Selection категория AOC 40%, 700мл', 'price': '2 199,00\\xa0₽/шт', 'size': '700 мл', 'url': 'https://www.perekrestok.ru/cat/14/p/kalvados-morin-selection-kategoria-aoc-40-700ml-4263600', 'time': 'Sat Jul  6 22:28:34 2024', 'name_': 'none', 'price_': 'none', 'brand': 'none', 'calories': 'none', 'proteins': 'none', 'fats': 'none', 'carbos': 'none', 'composition': 'none', 'get_ok': 'none', 'parse_ok': 'none', 'time_': 'none'}\n",
      " https://www.perekrestok.ru/cat/14/p/kalvados-morin-selection-kategoria-aoc-40-700ml-4263600\n",
      "{'name': 'Бренди Soberano Reserva 5 в подарочной упаковке 36%, 700мл', 'price': '1 399,00\\xa0₽/шт', 'size': '700 мл', 'url': 'https://www.perekrestok.ru/cat/14/p/brendi-soberano-reserva-5-v-podarocnoj-upakovke-36-700ml-4172371', 'time': 'Sat Jul  6 22:28:34 2024', 'name_': 'none', 'price_': 'none', 'brand': 'none', 'calories': 'none', 'proteins': 'none', 'fats': 'none', 'carbos': 'none', 'composition': 'none', 'get_ok': 'none', 'parse_ok': 'none', 'time_': 'none'}\n",
      " https://www.perekrestok.ru/cat/14/p/brendi-soberano-reserva-5-v-podarocnoj-upakovke-36-700ml-4172371\n",
      "{'name': 'Бренди Сortel Наполеон в подарочной коробке, 700мл', 'price': '2 199,00\\xa0₽/шт', 'size': '700 мл', 'url': 'https://www.perekrestok.ru/cat/14/p/brendi-sortel-napoleon-v-podarocnoj-korobke-700ml-4169863', 'time': 'Sat Jul  6 22:28:34 2024', 'name_': 'none', 'price_': 'none', 'brand': 'none', 'calories': 'none', 'proteins': 'none', 'fats': 'none', 'carbos': 'none', 'composition': 'none', 'get_ok': 'none', 'parse_ok': 'none', 'time_': 'none'}\n",
      " https://www.perekrestok.ru/cat/14/p/brendi-sortel-napoleon-v-podarocnoj-korobke-700ml-4169863\n",
      "{'name': 'Бренди Barrel 40%, 500мл', 'price': '479,99\\xa0₽/шт', 'size': '500 мл', 'url': 'https://www.perekrestok.ru/cat/14/p/brendi-barrel-40-500ml-3684688', 'time': 'Sat Jul  6 22:28:34 2024', 'name_': 'none', 'price_': 'none', 'brand': 'none', 'calories': 'none', 'proteins': 'none', 'fats': 'none', 'carbos': 'none', 'composition': 'none', 'get_ok': 'none', 'parse_ok': 'none', 'time_': 'none'}\n",
      " https://www.perekrestok.ru/cat/14/p/brendi-barrel-40-500ml-3684688\n",
      "{'name': 'Бренди Сortel ХО Суперио в подарочной коробке, 700мл', 'price': '2 599,00\\xa0₽/шт', 'size': '700 мл', 'url': 'https://www.perekrestok.ru/cat/14/p/brendi-sortel-ho-superio-v-podarocnoj-korobke-700ml-4170358', 'time': 'Sat Jul  6 22:28:34 2024', 'name_': 'none', 'price_': 'none', 'brand': 'none', 'calories': 'none', 'proteins': 'none', 'fats': 'none', 'carbos': 'none', 'composition': 'none', 'get_ok': 'none', 'parse_ok': 'none', 'time_': 'none'}\n",
      " https://www.perekrestok.ru/cat/14/p/brendi-sortel-ho-superio-v-podarocnoj-korobke-700ml-4170358\n",
      "{'name': 'Бренди Rubinov Виньяк VS 40%, 500мл', 'price': '1 359,00\\xa0₽/шт', 'size': '500 мл', 'url': 'https://www.perekrestok.ru/cat/14/p/brendi-rubinov-vinak-vs-40-500ml-4233752', 'time': 'Sat Jul  6 22:28:34 2024', 'name_': 'none', 'price_': 'none', 'brand': 'none', 'calories': 'none', 'proteins': 'none', 'fats': 'none', 'carbos': 'none', 'composition': 'none', 'get_ok': 'none', 'parse_ok': 'none', 'time_': 'none'}\n",
      " https://www.perekrestok.ru/cat/14/p/brendi-rubinov-vinak-vs-40-500ml-4233752\n",
      "{'name': 'Бренди Torres 10 Гран Резерва 38%, 200мл', 'price': '559,99\\xa0₽/шт', 'size': '200 мл', 'url': 'https://www.perekrestok.ru/cat/14/p/brendi-torres-10-gran-rezerva-38-200ml-4152147', 'time': 'Sat Jul  6 22:28:34 2024', 'name_': 'none', 'price_': 'none', 'brand': 'none', 'calories': 'none', 'proteins': 'none', 'fats': 'none', 'carbos': 'none', 'composition': 'none', 'get_ok': 'none', 'parse_ok': 'none', 'time_': 'none'}\n",
      " https://www.perekrestok.ru/cat/14/p/brendi-torres-10-gran-rezerva-38-200ml-4152147\n",
      "{'name': 'Бренди Torres Гран Ресерва 10 38% в подарочной упаковке, 700мл', 'price': '1 499,00\\xa0₽/шт', 'size': '700 мл', 'url': 'https://www.perekrestok.ru/cat/14/p/brendi-torres-gran-reserva-10-38-v-podarocnoj-upakovke-700ml-39490', 'time': 'Sat Jul  6 22:28:34 2024', 'name_': 'none', 'price_': 'none', 'brand': 'none', 'calories': 'none', 'proteins': 'none', 'fats': 'none', 'carbos': 'none', 'composition': 'none', 'get_ok': 'none', 'parse_ok': 'none', 'time_': 'none'}\n",
      " https://www.perekrestok.ru/cat/14/p/brendi-torres-gran-reserva-10-38-v-podarocnoj-upakovke-700ml-39490\n",
      "{'name': 'Бренди Кизлярский Марочный 40%, 250мл', 'price': '419,99\\xa0₽/шт', 'size': '250 мл', 'url': 'https://www.perekrestok.ru/cat/14/p/brendi-kizlarskij-marocnyj-40-250ml-4207331', 'time': 'Sat Jul  6 22:28:34 2024', 'name_': 'none', 'price_': 'none', 'brand': 'none', 'calories': 'none', 'proteins': 'none', 'fats': 'none', 'carbos': 'none', 'composition': 'none', 'get_ok': 'none', 'parse_ok': 'none', 'time_': 'none'}\n",
      " https://www.perekrestok.ru/cat/14/p/brendi-kizlarskij-marocnyj-40-250ml-4207331\n",
      "{'name': 'Бренди Кизлярский Марочный 40%, 500мл', 'price': '589,99\\xa0₽/шт', 'size': '500 мл', 'url': 'https://www.perekrestok.ru/cat/14/p/brendi-kizlarskij-marocnyj-40-500ml-3412218', 'time': 'Sat Jul  6 22:28:34 2024', 'name_': 'none', 'price_': 'none', 'brand': 'none', 'calories': 'none', 'proteins': 'none', 'fats': 'none', 'carbos': 'none', 'composition': 'none', 'get_ok': 'none', 'parse_ok': 'none', 'time_': 'none'}\n",
      " https://www.perekrestok.ru/cat/14/p/brendi-kizlarskij-marocnyj-40-500ml-3412218\n",
      "{'name': 'Спиртной напиток Виват Армения 35%, 500мл', 'price': '489,99\\xa0₽/шт', 'size': '500 мл', 'url': 'https://www.perekrestok.ru/cat/14/p/spirtnoj-napitok-vivat-armenia-35-500ml-4280061', 'time': 'Sat Jul  6 22:28:34 2024', 'name_': 'none', 'price_': 'none', 'brand': 'none', 'calories': 'none', 'proteins': 'none', 'fats': 'none', 'carbos': 'none', 'composition': 'none', 'get_ok': 'none', 'parse_ok': 'none', 'time_': 'none'}\n",
      " https://www.perekrestok.ru/cat/14/p/spirtnoj-napitok-vivat-armenia-35-500ml-4280061\n",
      "{'name': 'Спиртной напиток Uhuru Кофе Мокка с ароматом кофе, 750мл', 'price': '659,99\\xa0₽/шт', 'size': '750 мл', 'url': 'https://www.perekrestok.ru/cat/14/p/spirtnoj-napitok-uhuru-kofe-mokka-s-aromatom-kofe-750ml-4195704', 'time': 'Sat Jul  6 22:28:34 2024', 'name_': 'none', 'price_': 'none', 'brand': 'none', 'calories': 'none', 'proteins': 'none', 'fats': 'none', 'carbos': 'none', 'composition': 'none', 'get_ok': 'none', 'parse_ok': 'none', 'time_': 'none'}\n",
      " https://www.perekrestok.ru/cat/14/p/spirtnoj-napitok-uhuru-kofe-mokka-s-aromatom-kofe-750ml-4195704\n",
      "{'name': 'Спиртной напиток Uhuru Синамон с ароматом корицы, 750мл', 'price': '659,99\\xa0₽/шт', 'size': '750 мл', 'url': 'https://www.perekrestok.ru/cat/14/p/spirtnoj-napitok-uhuru-sinamon-s-aromatom-koricy-750ml-4195701', 'time': 'Sat Jul  6 22:28:34 2024', 'name_': 'none', 'price_': 'none', 'brand': 'none', 'calories': 'none', 'proteins': 'none', 'fats': 'none', 'carbos': 'none', 'composition': 'none', 'get_ok': 'none', 'parse_ok': 'none', 'time_': 'none'}\n",
      " https://www.perekrestok.ru/cat/14/p/spirtnoj-napitok-uhuru-sinamon-s-aromatom-koricy-750ml-4195701\n"
     ]
    }
   ],
   "source": [
    "import StorePerek\n",
    "cat = 'brendi'\n",
    "scr = StorePerek.Scrapper()\n",
    "scr.run_fullcards(cat)"
   ]
  },
  {
   "cell_type": "markdown",
   "metadata": {},
   "source": [
    "### Для всех категорий"
   ]
  },
  {
   "cell_type": "code",
   "execution_count": null,
   "metadata": {},
   "outputs": [],
   "source": [
    "import StorePerek\n",
    "StorePerek.run_fullcards()"
   ]
  },
  {
   "cell_type": "markdown",
   "metadata": {},
   "source": [
    "### Удалить дубликаты"
   ]
  },
  {
   "cell_type": "code",
   "execution_count": null,
   "metadata": {},
   "outputs": [],
   "source": [
    "import csv\n",
    "import StorePerek\n",
    "\n",
    "scr = StorePerek.Scrapper()\n",
    "re = scr.run_remove_duplicates('jogurty')\n",
    "\n",
    "fname = scr.get_file('jogurty')\n",
    "file = open(fname, 'r')\n",
    "re = csv.DictReader(file, delimiter=StorePerek.DELIM_CHAR)\n",
    "cards = list(re)\n",
    "urls = [item['url'] for item in cards]\n",
    "\n",
    "from collections import defaultdict\n",
    "D = defaultdict(list)\n",
    "for i,item in enumerate(urls):\n",
    "    D[item].append(i)\n",
    "D = {k:v for k,v in D.items() if len(v)>1}\n",
    "\n",
    "print(D)"
   ]
  },
  {
   "cell_type": "code",
   "execution_count": null,
   "metadata": {},
   "outputs": [],
   "source": [
    "import StorePerek\n",
    "StorePerek.run_clean_urls()\n",
    "StorePerek.run_remove_duplicates()"
   ]
  },
  {
   "cell_type": "code",
   "execution_count": null,
   "metadata": {},
   "outputs": [],
   "source": [
    "StorePerek.run_remove_duplicates()"
   ]
  },
  {
   "cell_type": "code",
   "execution_count": null,
   "metadata": {},
   "outputs": [],
   "source": []
  },
  {
   "cell_type": "markdown",
   "metadata": {},
   "source": [
    "## Построение списка ссылок категорий товаров"
   ]
  },
  {
   "cell_type": "code",
   "execution_count": null,
   "metadata": {},
   "outputs": [],
   "source": [
    "import requests\n",
    "from bs4 import BeautifulSoup\n",
    "\n",
    "url_base = 'https://www.perekrestok.ru'\n",
    "req = requests.get(url_base + '/cat')\n",
    "bs = BeautifulSoup(req.text, 'html.parser')\n",
    "cats = bs.find_all(class_='category-filter-item__header')\n",
    "for cat in cats:\n",
    "    print(cat.find('a').get('href'))"
   ]
  },
  {
   "cell_type": "markdown",
   "metadata": {},
   "source": [
    "## Построение дерева категорий товаров"
   ]
  },
  {
   "cell_type": "code",
   "execution_count": null,
   "metadata": {},
   "outputs": [],
   "source": [
    "import requests\n",
    "from bs4 import BeautifulSoup\n",
    "import yaml\n",
    "\n",
    "url_base = 'https://www.perekrestok.ru'\n",
    "\n",
    "ROOT_URLS = [\n",
    "    '/cat/mc/113/moloko-syr-ajca',\n",
    "    '/cat/mc/148/ovosi-frukty-griby',\n",
    "    '/cat/mc/100/makarony-krupy-maslo-specii',\n",
    "    '/cat/mc/708/cipsy-sneki-popkorn',\n",
    "    '/cat/mc/187/sokolad-konfety-sladosti',\n",
    "    '/cat/mc/205/soki-vody-napitki',\n",
    "    '/cat/mc/242/hleb-i-vypecka',\n",
    "    '/cat/mc/132/maso-i-ptica',\n",
    "    '/cat/mc/782/kolbasnye-izdelia',\n",
    "    '/cat/mc/174/ryba',\n",
    "    '/cat/mc/54/zamorozennye-produkty',\n",
    "    '/cat/mc/793/moreprodukty',\n",
    "    '/cat/mc/217/sousy-ketcupy-majonezy',\n",
    "    '/cat/mc/79/kofe-caj-kakao-sahar',\n",
    "    '/cat/mc/224/suhie-zavtraki-musli',\n",
    "    '/cat/mc/168/produkty-bystrogo-prigotovlenia',\n",
    "    '/cat/mc/74/konservacia',\n",
    "    '/cat/mc/157/orehi-semecki-suhofrukty',\n",
    "    '/cat/mc/108/med-varene-dzemy-siropy',\n",
    "    '/cat/mc/1/alkogolnye-napitki',\n",
    "]\n",
    "\n",
    "cat_urls = {}\n",
    "cat_names = {}\n",
    "cat_tree = {}\n",
    "for url in ROOT_URLS:\n",
    "    print(url)\n",
    "    req = requests.get(url_base + url)\n",
    "    bs = BeautifulSoup(req.text, 'html.parser')\n",
    "    cats = bs.find(class_='category-filter-item__content').find_all('a')\n",
    "    h = bs.find(class_='category-filter-item__header').find('span').text\n",
    "    print(h)\n",
    "    cat_tree[h] = {}\n",
    "    for cat in cats:\n",
    "        u = cat.get('href')\n",
    "        k = u.split('/')[-1]\n",
    "        t = cat.text\n",
    "        cat_urls[k] = u\n",
    "        cat_names[k] = t\n",
    "        cat_tree[h][t] = k + '.md'\n",
    "\n",
    "ya = yaml.dump(cat_tree, allow_unicode = True, encoding = None)\n",
    "ya = ya.replace('\\n ', '\\n -')\n",
    "print(ya)"
   ]
  },
  {
   "cell_type": "markdown",
   "metadata": {},
   "source": [
    "## Черновики"
   ]
  },
  {
   "cell_type": "code",
   "execution_count": null,
   "metadata": {},
   "outputs": [],
   "source": [
    "import StorePerek\n",
    "StorePerek.get_local_browser('Санкт-Петербург, Биржевая площадь, 4')"
   ]
  },
  {
   "cell_type": "code",
   "execution_count": null,
   "metadata": {},
   "outputs": [],
   "source": [
    "import StorePerek\n",
    "re = StorePerek.run_localprice()"
   ]
  }
 ],
 "metadata": {
  "kernelspec": {
   "display_name": "scrap",
   "language": "python",
   "name": "python3"
  },
  "language_info": {
   "codemirror_mode": {
    "name": "ipython",
    "version": 3
   },
   "file_extension": ".py",
   "mimetype": "text/x-python",
   "name": "python",
   "nbconvert_exporter": "python",
   "pygments_lexer": "ipython3",
   "version": "3.12.4"
  }
 },
 "nbformat": 4,
 "nbformat_minor": 2
}
